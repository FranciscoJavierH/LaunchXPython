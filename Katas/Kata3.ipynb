{
 "cells": [
  {
   "cell_type": "markdown",
   "metadata": {},
   "source": [
    "# Ejercicio - Escribir declaraciones `if`, `else`, y `elif`"
   ]
  },
  {
   "cell_type": "code",
   "execution_count": 29,
   "metadata": {},
   "outputs": [
    {
     "name": "stdout",
     "output_type": "stream",
     "text": [
      "1.Se acerca un asteroide\n",
      "2.Ten un buen dia\n"
     ]
    }
   ],
   "source": [
    "asteroide = 49\n",
    "if asteroide > 25:\n",
    "    print(\"1.Se acerca un asteroide\")\n",
    "else:\n",
    "    print(\"1.Ten un buen dia\")\n",
    "    \n",
    "    \n",
    "    \n",
    "asteroide = 15\n",
    "if asteroide > 25:\n",
    "    print(\"2.Se acerca un asteroide\")\n",
    "else:\n",
    "    print(\"2.Ten un buen dia\")"
   ]
  },
  {
   "cell_type": "markdown",
   "metadata": {},
   "source": [
    "# Problema No.2"
   ]
  },
  {
   "cell_type": "code",
   "execution_count": 45,
   "metadata": {},
   "outputs": [
    {
     "name": "stdout",
     "output_type": "stream",
     "text": [
      "Nada que ver\n"
     ]
    }
   ],
   "source": [
    "asteroide = 19\n",
    "if asteroide > 20:\n",
    "    print(\" Cuidado una luz\")\n",
    "elif asteroide == 20:\n",
    "    print(\"Una luz magia\")\n",
    "else:\n",
    "    print(\"Nada que ver\")"
   ]
  },
  {
   "cell_type": "markdown",
   "metadata": {},
   "source": [
    "# ProblemaNo.3.pro"
   ]
  },
  {
   "cell_type": "code",
   "execution_count": 52,
   "metadata": {},
   "outputs": [
    {
     "name": "stdout",
     "output_type": "stream",
     "text": [
      "ayuda hay una luz en el cielo\n"
     ]
    }
   ],
   "source": [
    "velocidad_asteroide = 25\n",
    "tamano_asteroide = 40\n",
    "if velocidad_asteroide > 25 and tamaño_asteroide>25:\n",
    "  print(\"Alerta un asteroide acaba de chocar\")\n",
    "elif velocidad_asteroide >=20:\n",
    "      print(\"ayuda hay una luz en el cielo\")\n",
    "elif tamano_asteroide < 25:\n",
    "      print(\"Buen dia\")\n",
    "else:\n",
    "  print(\"Que tenga un buen dia\")\n",
    "      "
   ]
  }
 ],
 "metadata": {
  "interpreter": {
   "hash": "c99a9c21484040db90cacd45b5e0d1cf679621038a15ba681072a0fc4e781318"
  },
  "kernelspec": {
   "display_name": "Python 3.10.2 64-bit",
   "language": "python",
   "name": "python3"
  },
  "language_info": {
   "codemirror_mode": {
    "name": "ipython",
    "version": 3
   },
   "file_extension": ".py",
   "mimetype": "text/x-python",
   "name": "python",
   "nbconvert_exporter": "python",
   "pygments_lexer": "ipython3",
   "version": "3.10.2"
  },
  "orig_nbformat": 4
 },
 "nbformat": 4,
 "nbformat_minor": 2
}

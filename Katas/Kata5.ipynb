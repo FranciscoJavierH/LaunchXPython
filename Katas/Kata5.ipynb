{
 "cells": [
  {
   "cell_type": "markdown",
   "metadata": {},
   "source": [
    "# Ejercicio1 - Utilizar operadores aritméticos"
   ]
  },
  {
   "cell_type": "code",
   "execution_count": 26,
   "metadata": {},
   "outputs": [],
   "source": [
    "distancia_tierra = 149597870 \n",
    "distancia_jupiter = 778547200"
   ]
  },
  {
   "cell_type": "code",
   "execution_count": 27,
   "metadata": {},
   "outputs": [
    {
     "name": "stdout",
     "output_type": "stream",
     "text": [
      "628949330\n",
      "390577533.93\n"
     ]
    }
   ],
   "source": [
    "distancia_km = distancia_jupiter - distancia_tierra\n",
    "print(distancia_km)\n",
    "\n",
    "distance_mi = distancia_km * 0.621\n",
    "print(distance_mi)"
   ]
  },
  {
   "cell_type": "markdown",
   "metadata": {},
   "source": [
    "# Ejercicio 2 "
   ]
  },
  {
   "cell_type": "code",
   "execution_count": 28,
   "metadata": {},
   "outputs": [],
   "source": [
    "primer_planeta = input('Escribe la distancia del sol para el primer planeta en K/M')\n",
    "segundo_planeta = input('Escribe la distancia desde el sol para el segundo planeta en K/M')"
   ]
  },
  {
   "cell_type": "code",
   "execution_count": 29,
   "metadata": {},
   "outputs": [
    {
     "name": "stdout",
     "output_type": "stream",
     "text": [
      "La distancia en kilometros es=50\n"
     ]
    }
   ],
   "source": [
    "primer_planeta = int(primer_planeta)\n",
    "segundo_planeta = int(segundo_planeta)\n",
    "distancia_km = primer_planeta - segundo_planeta\n",
    "print(\"La distancia en kilometros es=\"+str(distancia_km))"
   ]
  },
  {
   "cell_type": "code",
   "execution_count": 30,
   "metadata": {},
   "outputs": [
    {
     "name": "stdout",
     "output_type": "stream",
     "text": [
      "La distacia del planeta 1 y 2 es= 31.05\n"
     ]
    }
   ],
   "source": [
    "distancia_m = distancia_km * 0.621\n",
    "print(\"La distacia del planeta 1 y 2 es=\",abs(distancia_m))"
   ]
  }
 ],
 "metadata": {
  "interpreter": {
   "hash": "c99a9c21484040db90cacd45b5e0d1cf679621038a15ba681072a0fc4e781318"
  },
  "kernelspec": {
   "display_name": "Python 3.10.2 64-bit",
   "language": "python",
   "name": "python3"
  },
  "language_info": {
   "codemirror_mode": {
    "name": "ipython",
    "version": 3
   },
   "file_extension": ".py",
   "mimetype": "text/x-python",
   "name": "python",
   "nbconvert_exporter": "python",
   "pygments_lexer": "ipython3",
   "version": "3.10.2"
  },
  "orig_nbformat": 4
 },
 "nbformat": 4,
 "nbformat_minor": 2
}

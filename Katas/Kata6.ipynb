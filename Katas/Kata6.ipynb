{
 "cells": [
  {
   "cell_type": "markdown",
   "metadata": {},
   "source": [
    "# Ejercicio 1"
   ]
  },
  {
   "cell_type": "code",
   "execution_count": 16,
   "metadata": {},
   "outputs": [
    {
     "name": "stdout",
     "output_type": "stream",
     "text": [
      "Existen 8 planetas en el sistema solar\n"
     ]
    }
   ],
   "source": [
    "planeta=['Mercurio','Venus','Tierra','Marte','Jupiter','Saturno','Urano','Neptuno']\n",
    "numero_de_planetas = len(planeta)\n",
    "print('Existen', numero_de_planetas, 'planetas en el sistema solar')"
   ]
  },
  {
   "cell_type": "code",
   "execution_count": 17,
   "metadata": {},
   "outputs": [
    {
     "name": "stdout",
     "output_type": "stream",
     "text": [
      "Contando el planeta enano hay 9 planetas en el sistmea solar\n"
     ]
    }
   ],
   "source": [
    "planeta.append('pluton')\n",
    "numero_de_planetas=len(planeta)\n",
    "print('Contando el planeta enano hay', numero_de_planetas,'planetas en el sistmea solar')"
   ]
  },
  {
   "cell_type": "markdown",
   "metadata": {},
   "source": [
    "# Ejercicio 2"
   ]
  },
  {
   "cell_type": "code",
   "execution_count": 27,
   "metadata": {},
   "outputs": [
    {
     "name": "stdout",
     "output_type": "stream",
     "text": [
      "Exelente el planeta que escogio es, Tierra\n",
      "Los planetas mas cercanos sonTierra\n",
      "['Mercurio', 'Venus']\n",
      "Los planetas mas alejados son Tierra\n",
      "['Marte', 'Jupiter', 'Saturno', 'Urano', 'Neptuno']\n"
     ]
    }
   ],
   "source": [
    "planeta=['Mercurio','Venus','Tierra','Marte','Jupiter','Saturno','Urano','Neptuno']\n",
    "\n",
    "nombre = input('Escribe el nombre de algun planeta del sistema solar a ecepcion de pluton')\n",
    "print(f\"Exelente el planeta que escogio es, {nombre}\")\n",
    "\n",
    "planeta_index=planeta.index(nombre)\n",
    "print('Los planetas mas cercanos son' + nombre)\n",
    "print(planeta[0:planeta_index])\n",
    "print('Los planetas mas alejados son ' + nombre)\n",
    "print(planeta[planeta_index + 1:])\n",
    "\n"
   ]
  }
 ],
 "metadata": {
  "interpreter": {
   "hash": "c99a9c21484040db90cacd45b5e0d1cf679621038a15ba681072a0fc4e781318"
  },
  "kernelspec": {
   "display_name": "Python 3.10.2 64-bit",
   "language": "python",
   "name": "python3"
  },
  "language_info": {
   "codemirror_mode": {
    "name": "ipython",
    "version": 3
   },
   "file_extension": ".py",
   "mimetype": "text/x-python",
   "name": "python",
   "nbconvert_exporter": "python",
   "pygments_lexer": "ipython3",
   "version": "3.10.2"
  },
  "orig_nbformat": 4
 },
 "nbformat": 4,
 "nbformat_minor": 2
}

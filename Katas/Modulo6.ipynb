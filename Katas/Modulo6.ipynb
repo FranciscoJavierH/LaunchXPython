{
 "cells": [
  {
   "cell_type": "markdown",
   "metadata": {},
   "source": [
    "# Crear una lista"
   ]
  },
  {
   "cell_type": "code",
   "execution_count": 200,
   "metadata": {},
   "outputs": [],
   "source": [
    "planeta = ['Mercurio','Venus','Tierra','Marte','Jupiter','Saturno','Urano','Neptuno']"
   ]
  },
  {
   "cell_type": "markdown",
   "metadata": {},
   "source": [
    "# Acceder a elementos de lista por índice"
   ]
  },
  {
   "cell_type": "code",
   "execution_count": 201,
   "metadata": {},
   "outputs": [
    {
     "name": "stdout",
     "output_type": "stream",
     "text": [
      "El primer planeta es Mercurio\n",
      "El segundo planeta es Venus\n",
      "El tercer planeta es Tierra\n",
      "El cuarto planeta es Marte\n",
      "El quinto planeta es Jupiter\n",
      "El sexto planeta es Saturno\n",
      "El septimo planeta es Urano\n",
      "El octavo planeta es Neptuno\n"
     ]
    }
   ],
   "source": [
    "print('El primer planeta es', planeta[0])\n",
    "print('El segundo planeta es', planeta[1])\n",
    "print('El tercer planeta es', planeta[2])\n",
    "print('El cuarto planeta es', planeta[3])\n",
    "print('El quinto planeta es', planeta[4])\n",
    "print('El sexto planeta es', planeta[5])\n",
    "print('El septimo planeta es', planeta[6])\n",
    "print('El octavo planeta es', planeta[7])"
   ]
  },
  {
   "cell_type": "markdown",
   "metadata": {},
   "source": [
    "Modificar el nombre del indice a un apodo"
   ]
  },
  {
   "cell_type": "code",
   "execution_count": 202,
   "metadata": {},
   "outputs": [
    {
     "name": "stdout",
     "output_type": "stream",
     "text": [
      "Marte tambien es conocido como planeta rojo Marte\n"
     ]
    }
   ],
   "source": [
    "planeta[4]='Planeta rojo'\n",
    "print('Marte tambien es conocido como planeta rojo', planeta[3])"
   ]
  },
  {
   "cell_type": "code",
   "execution_count": 203,
   "metadata": {},
   "outputs": [
    {
     "name": "stdout",
     "output_type": "stream",
     "text": [
      "Marte\n"
     ]
    }
   ],
   "source": [
    "print(planeta[3])"
   ]
  },
  {
   "cell_type": "code",
   "execution_count": 204,
   "metadata": {},
   "outputs": [
    {
     "name": "stdout",
     "output_type": "stream",
     "text": [
      "['Mercurio', 'Venus', 'Tierra', 'Marte', 'Planeta rojo', 'Saturno', 'Urano', 'Neptuno']\n"
     ]
    }
   ],
   "source": [
    "print(planeta)"
   ]
  },
  {
   "cell_type": "markdown",
   "metadata": {},
   "source": [
    "# Determinar la longitud de una lista"
   ]
  },
  {
   "cell_type": "code",
   "execution_count": 205,
   "metadata": {},
   "outputs": [
    {
     "name": "stdout",
     "output_type": "stream",
     "text": [
      "Existen 8 planetas en el sistema solar\n"
     ]
    }
   ],
   "source": [
    "numero_de_planetas = len(planeta)\n",
    "print('Existen', numero_de_planetas, 'planetas en el sistema solar')"
   ]
  },
  {
   "cell_type": "markdown",
   "metadata": {},
   "source": [
    "# Agregar a listas de valores"
   ]
  },
  {
   "cell_type": "code",
   "execution_count": 206,
   "metadata": {},
   "outputs": [
    {
     "name": "stdout",
     "output_type": "stream",
     "text": [
      "Contando los planetas enanos hay 9 planetas en el sistmea solar\n"
     ]
    }
   ],
   "source": [
    "planeta.append('pluto')\n",
    "numero_de_planetas=len(planeta)\n",
    "print('Contando los planetas enanos hay', numero_de_planetas,'planetas en el sistmea solar')"
   ]
  },
  {
   "cell_type": "markdown",
   "metadata": {},
   "source": [
    "# Eliminar valores de una lista"
   ]
  },
  {
   "cell_type": "code",
   "execution_count": 207,
   "metadata": {},
   "outputs": [
    {
     "name": "stdout",
     "output_type": "stream",
     "text": [
      "No definitivamente sin contar los planetas enanos hay 8 planetas en el sistema solar\n"
     ]
    }
   ],
   "source": [
    "planeta.pop() #Goodbye, pluto\n",
    "numero_de_planetas=len(planeta)\n",
    "print('No definitivamente sin contar los planetas enanos hay',numero_de_planetas,'planetas en el sistema solar')\n"
   ]
  },
  {
   "cell_type": "code",
   "execution_count": 208,
   "metadata": {},
   "outputs": [
    {
     "name": "stdout",
     "output_type": "stream",
     "text": [
      "['Mercurio', 'Venus', 'Tierra', 'Marte', 'Planeta rojo', 'Saturno', 'Urano', 'Neptuno']\n"
     ]
    }
   ],
   "source": [
    "numero_de_planetas=len(planeta)\n",
    "print(planeta)"
   ]
  },
  {
   "cell_type": "markdown",
   "metadata": {},
   "source": [
    "# Indices negativos"
   ]
  },
  {
   "cell_type": "code",
   "execution_count": 209,
   "metadata": {},
   "outputs": [
    {
     "name": "stdout",
     "output_type": "stream",
     "text": [
      "El primer planeta es Mercurio\n"
     ]
    }
   ],
   "source": [
    "print('El primer planeta es',planeta[0])"
   ]
  },
  {
   "cell_type": "code",
   "execution_count": 210,
   "metadata": {},
   "outputs": [
    {
     "name": "stdout",
     "output_type": "stream",
     "text": [
      "El ultimo planeta es Neptuno\n",
      "El ultimo planeta es Urano\n",
      "El antepenultimo planeta es Saturno\n",
      "El planeta en el que vivimos es Tierra\n"
     ]
    }
   ],
   "source": [
    "print('El ultimo planeta es',planeta[-1])\n",
    "print('El ultimo planeta es',planeta[-2])\n",
    "print('El antepenultimo planeta es',planeta[-3])\n",
    "print('El planeta en el que vivimos es',planeta[-6])\n"
   ]
  },
  {
   "cell_type": "markdown",
   "metadata": {},
   "source": [
    "# Buscar un valor en una lista"
   ]
  },
  {
   "cell_type": "code",
   "execution_count": 211,
   "metadata": {},
   "outputs": [
    {
     "name": "stdout",
     "output_type": "stream",
     "text": [
      "La tierra es el no. 3 del sistema solar\n"
     ]
    }
   ],
   "source": [
    "tierra_index=planeta.index('Tierra')\n",
    "print('La tierra es el no.',tierra_index+1,'del sistema solar')"
   ]
  },
  {
   "cell_type": "markdown",
   "metadata": {},
   "source": [
    "Indices negativos"
   ]
  },
  {
   "cell_type": "code",
   "execution_count": 212,
   "metadata": {},
   "outputs": [
    {
     "name": "stdout",
     "output_type": "stream",
     "text": [
      "El primer plantea es Mercurio\n"
     ]
    }
   ],
   "source": [
    "print('El primer plantea es',planeta[0])"
   ]
  },
  {
   "cell_type": "markdown",
   "metadata": {},
   "source": [
    "# Almacenar numeros en listas"
   ]
  },
  {
   "cell_type": "code",
   "execution_count": 213,
   "metadata": {},
   "outputs": [],
   "source": [
    "gravedad_en_tierra = 1.0\n",
    "gravedad_en_el_moon= 0.166"
   ]
  },
  {
   "cell_type": "code",
   "execution_count": 214,
   "metadata": {},
   "outputs": [
    {
     "data": {
      "text/plain": [
       "0.378"
      ]
     },
     "execution_count": 214,
     "metadata": {},
     "output_type": "execute_result"
    }
   ],
   "source": [
    "gravedad_en_los_planetas=[0.378, 0.907, 1, 0.379, 2.36, 0.916, 0.889, 1.12]\n",
    "gravedad_en_los_planetas[0]\n"
   ]
  },
  {
   "cell_type": "markdown",
   "metadata": {},
   "source": [
    "Calcular el peso de un bus de dos pisos en diferentes planetas obteniendo el valor de la lista:"
   ]
  },
  {
   "cell_type": "code",
   "execution_count": 215,
   "metadata": {},
   "outputs": [
    {
     "name": "stdout",
     "output_type": "stream",
     "text": [
      "En la tierra un auto bus pesa 12650 KG\n",
      "En Mercurio el auto bus pesa 4781.7 KG\n",
      "En saturno el bus pesa 11587.4 KG\n",
      "En urano bus pesa 11245.85 KG\n"
     ]
    }
   ],
   "source": [
    "peso_del_bus=12650 #en kg en la tierra\n",
    "print('En la tierra un auto bus pesa',peso_del_bus,'KG')\n",
    "print('En Mercurio el auto bus pesa',peso_del_bus*gravedad_en_los_planetas[0],'KG')\n",
    "print(\"En saturno el bus pesa\",peso_del_bus*gravedad_en_los_planetas[5],'KG')\n",
    "print('En urano bus pesa',peso_del_bus*gravedad_en_los_planetas[6],'KG')"
   ]
  },
  {
   "cell_type": "markdown",
   "metadata": {},
   "source": [
    "# min() y max() con listas"
   ]
  },
  {
   "cell_type": "code",
   "execution_count": 216,
   "metadata": {},
   "outputs": [
    {
     "name": "stdout",
     "output_type": "stream",
     "text": [
      "La gravedad mas pequeña en el sistema solar el 0.378\n",
      "La gravedad mas alta del sistema solar es 2.36\n"
     ]
    }
   ],
   "source": [
    "min(gravedad_en_los_planetas)\n",
    "# Ejemplo\n",
    "print('La gravedad mas pequeña en el sistema solar el',min(gravedad_en_los_planetas))\n",
    "print('La gravedad mas alta del sistema solar es',max(gravedad_en_los_planetas))"
   ]
  },
  {
   "cell_type": "code",
   "execution_count": 218,
   "metadata": {},
   "outputs": [
    {
     "name": "stdout",
     "output_type": "stream",
     "text": [
      "En la tierra un bus de dos pisos pesa 12650 KG\n",
      "El peso mas liviano en el sistema solar es de 4781.7 Kg\n",
      "El peso mas alto en el sistema solar es de 29854.0 Kg\n"
     ]
    }
   ],
   "source": [
    "peso_del_bus=12650 \n",
    "print('En la tierra un bus de dos pisos pesa',peso_del_bus,'KG')\n",
    "print('El peso mas liviano en el sistema solar es de', peso_del_bus * min(gravedad_en_los_planetas),'Kg')\n",
    "print('El peso mas alto en el sistema solar es de', peso_del_bus * max(gravedad_en_los_planetas),'Kg')"
   ]
  },
  {
   "cell_type": "markdown",
   "metadata": {},
   "source": [
    "# Manipular datos de lista"
   ]
  },
  {
   "cell_type": "markdown",
   "metadata": {},
   "source": [
    "Lista de cortes"
   ]
  },
  {
   "cell_type": "code",
   "execution_count": 219,
   "metadata": {},
   "outputs": [
    {
     "name": "stdout",
     "output_type": "stream",
     "text": [
      "Los planetas antes de la tierra son ['Mercurio', 'Venus']\n"
     ]
    }
   ],
   "source": [
    "planeta = ['Mercurio','Venus','Tierra','Marte','Jupiter','Saturno','Urano','Neptuno']\n",
    "planetas_antes_de_la_tierra=planeta[0:2]\n",
    "print('Los planetas antes de la tierra son',planetas_antes_de_la_tierra)\n"
   ]
  },
  {
   "cell_type": "code",
   "execution_count": 220,
   "metadata": {},
   "outputs": [
    {
     "name": "stdout",
     "output_type": "stream",
     "text": [
      "Los planetas despues de la tierra son ['Marte', 'Jupiter', 'Saturno', 'Urano', 'Neptuno']\n"
     ]
    }
   ],
   "source": [
    "planetas_antes_de_la_tierra=planeta[3:8]\n",
    "print('Los planetas despues de la tierra son',planetas_antes_de_la_tierra)\n",
    "\n"
   ]
  },
  {
   "cell_type": "code",
   "execution_count": 221,
   "metadata": {},
   "outputs": [
    {
     "name": "stdout",
     "output_type": "stream",
     "text": [
      "['Marte', 'Jupiter', 'Saturno', 'Urano', 'Neptuno']\n"
     ]
    }
   ],
   "source": [
    "planetas_antes_de_la_tierra=planeta[3:]\n",
    "print(planetas_antes_de_la_tierra)"
   ]
  },
  {
   "cell_type": "markdown",
   "metadata": {},
   "source": [
    "# Uniendo listas"
   ]
  },
  {
   "cell_type": "code",
   "execution_count": 222,
   "metadata": {},
   "outputs": [
    {
     "name": "stdout",
     "output_type": "stream",
     "text": [
      "Las lunas satelitales de Jupiter son ['Metis', 'Adrastea', 'Amalthea', 'thebe', 'Io', 'Europa', 'Ganymede', 'Callisto']\n"
     ]
    }
   ],
   "source": [
    "amaltea_grupo = ['Metis','Adrastea','Amalthea','thebe']\n",
    "galilean_lunas = ['Io','Europa','Ganymede','Callisto']\n",
    "lunas_satelitales_regularees= amaltea_grupo+galilean_lunas\n",
    "print(\"Las lunas satelitales de Jupiter son\", lunas_satelitales_regularees)"
   ]
  },
  {
   "cell_type": "markdown",
   "metadata": {},
   "source": [
    "# Ordenar listas"
   ]
  },
  {
   "cell_type": "code",
   "execution_count": 223,
   "metadata": {},
   "outputs": [
    {
     "name": "stdout",
     "output_type": "stream",
     "text": [
      "Las lunas satélite regulares de Júpiter son ['Adrastea', 'Amalthea', 'Callisto', 'Europa', 'Ganymede', 'Io', 'Metis', 'thebe']\n"
     ]
    }
   ],
   "source": [
    "lunas_satelitales_regularees.sort()\n",
    "print('Las lunas satélite regulares de Júpiter son',lunas_satelitales_regularees )"
   ]
  }
 ],
 "metadata": {
  "interpreter": {
   "hash": "c99a9c21484040db90cacd45b5e0d1cf679621038a15ba681072a0fc4e781318"
  },
  "kernelspec": {
   "display_name": "Python 3.10.2 64-bit",
   "language": "python",
   "name": "python3"
  },
  "language_info": {
   "codemirror_mode": {
    "name": "ipython",
    "version": 3
   },
   "file_extension": ".py",
   "mimetype": "text/x-python",
   "name": "python",
   "nbconvert_exporter": "python",
   "pygments_lexer": "ipython3",
   "version": "3.10.2"
  },
  "orig_nbformat": 4
 },
 "nbformat": 4,
 "nbformat_minor": 2
}
